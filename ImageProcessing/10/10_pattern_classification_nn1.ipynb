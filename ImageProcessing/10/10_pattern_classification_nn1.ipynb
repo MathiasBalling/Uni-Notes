{
 "cells": [
  {
   "cell_type": "markdown",
   "metadata": {},
   "source": [
    "## Introduction to Image Processing with Python\n",
    "### Image Processing (RM1-VIS)\n",
    "### University of Southern Denmark"
   ]
  },
  {
   "cell_type": "code",
   "execution_count": 1,
   "metadata": {
    "collapsed": true
   },
   "outputs": [],
   "source": [
    "import numpy as np\n",
    "import matplotlib.pyplot as plt\n",
    "import skimage\n",
    "from sklearn.datasets import load_digits # note: you may need to install, e.g. pip install scikit-learn\n",
    "from sklearn.neural_network import MLPClassifier"
   ]
  },
  {
   "cell_type": "code",
   "execution_count": 2,
   "metadata": {
    "collapsed": true
   },
   "outputs": [],
   "source": [
    "def plotImage(image, title):\n",
    "    if(len(image.shape) == 2):\n",
    "        plt.imshow(image, cmap='gray')\n",
    "    else:\n",
    "        plt.imshow(image)\n",
    "    plt.title(title)\n",
    "    plt.axis('off')\n",
    "    plt.show()"
   ]
  },
  {
   "cell_type": "markdown",
   "metadata": {},
   "source": [
    "Construct a fully-connected feed-forward neural network for MNIST digit classification. Use squared loss and sigmoid activations. A learning rate of 0.001 should work ok with 100 iterations.\n",
    "\n",
    "* Hint: The necessary equations are given by Table 12.3 Gonzalez-Woods 4th Ed. Intl.\n",
    "* Hint: You can compare to a reference implementation in sklearn: the implementation: mlp = MLPClassifier(), mlp.fit(train, labels)\n",
    "\n",
    "sklearn contains a small subset of the MNIST dataset. The full dataset with 60000 training examples and 20000 validation/test examples can be downloaded at:\n",
    "* https://www.python-course.eu/data/mnist/mnist_train.csv\n",
    "* https://www.python-course.eu/data/mnist/mnist_test.csv"
   ]
  },
  {
   "cell_type": "code",
   "execution_count": 3,
   "metadata": {},
   "outputs": [],
   "source": [
    "mnist = load_digits()"
   ]
  },
  {
   "cell_type": "code",
   "execution_count": 4,
   "metadata": {},
   "outputs": [
    {
     "name": "stdout",
     "output_type": "stream",
     "text": [
      "(1797, 64)\n",
      "(1797,)\n"
     ]
    }
   ],
   "source": [
    "# the training data X\n",
    "print(mnist.data.shape)\n",
    "\n",
    "# the ground truth labels\n",
    "print(mnist.target.shape)"
   ]
  },
  {
   "cell_type": "code",
   "execution_count": 5,
   "metadata": {},
   "outputs": [
    {
     "data": {
      "image/png": "[encoded data removed]",
      "text/plain": [
       "<Figure size 1600x600 with 20 Axes>"
      ]
     },
     "metadata": {},
     "output_type": "display_data"
    }
   ],
   "source": [
    "# showing a few examples\n",
    "fig, axes = plt.subplots(2, 10, figsize=(16, 6))\n",
    "for i in range(20):\n",
    "    axes[i//10, i %10].imshow(mnist.images[i], cmap='gray');\n",
    "    axes[i//10, i %10].axis('off')\n",
    "    axes[i//10, i %10].set_title(f\"target: {mnist.target[i]}\")\n",
    "    \n",
    "plt.tight_layout()"
   ]
  },
  {
   "cell_type": "code",
   "execution_count": null,
   "metadata": {},
   "outputs": [],
   "source": [
    "# load full mnist dataset\n",
    "train_data = np.loadtxt(\"mnist_train.csv\", delimiter=\",\")\n",
    "test_data = np.loadtxt(\"mnist_test.csv\", delimiter=\",\")\n",
    "train_imgs = np.asfarray(train_data[:, 1:])\n",
    "test_imgs = np.asfarray(test_data[:, 1:])\n",
    "train_labels = np.asfarray(train_data[:, :1])\n",
    "test_labels = np.asfarray(test_data[:, :1])\n",
    "lr = np.arange(10)\n",
    "train_labels_one_hot = (lr==train_labels).astype(np.float)\n",
    "test_labels_one_hot = (lr==test_labels).astype(np.float)"
   ]
  },
  {
   "cell_type": "code",
   "execution_count": null,
   "metadata": {},
   "outputs": [],
   "source": [
    "nNeurons = [784, 32, 32, 10]\n",
    "nLayers = len(nNeurons)\n",
    "#nP = mnist.data.shape[0]\n",
    "nP = train_imgs.shape[0]"
   ]
  }
 ],
 "metadata": {
  "kernelspec": {
   "display_name": "Python 3",
   "language": "python",
   "name": "python3"
  },
  "language_info": {
   "codemirror_mode": {
    "name": "ipython",
    "version": 3
   },
   "file_extension": ".py",
   "mimetype": "text/x-python",
   "name": "python",
   "nbconvert_exporter": "python",
   "pygments_lexer": "ipython3",
   "version": "3.11.3"
  }
 },
 "nbformat": 4,
 "nbformat_minor": 0
}
