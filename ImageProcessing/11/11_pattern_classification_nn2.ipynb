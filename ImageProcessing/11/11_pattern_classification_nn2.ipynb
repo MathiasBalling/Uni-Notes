{
 "cells": [
  {
   "cell_type": "markdown",
   "metadata": {},
   "source": [
    "## Introduction to Image Processing with Python\n",
    "### Image Processing (RM1-VIS)\n",
    "### University of Southern Denmark"
   ]
  },
  {
   "cell_type": "code",
   "execution_count": 7,
   "metadata": {
    "collapsed": true
   },
   "outputs": [],
   "source": [
    "import numpy as np\n",
    "import matplotlib.pyplot as plt\n",
    "import skimage\n",
    "\n",
    "import torch.nn as nn\n",
    "import torch.nn.functional as F\n",
    "import torch.optim as optim\n",
    "import torch.utils.data\n",
    "from torch.utils.data import DataLoader\n",
    "from torchvision import datasets\n",
    "from torchvision.transforms import ToTensor"
   ]
  },
  {
   "cell_type": "markdown",
   "metadata": {},
   "source": [
    "Implement a convolutional neural network for MNIST digit classification using the PyTorch framework.\n",
    "* Install with \"pip install torchvision\". Use a virtual environment.\n",
    "* Let PyTorch download the full MNIST dataset suitable for its' DataLoader structure.\n",
    "* The training loop should perform the steps outlined in Table 12.6.\n",
    "* A good starting point for the network structure is given in Example 12.17. \n",
    "* Use F.softmax() in the output layer to normalize outputs to be between 0 and 1.\n",
    "* Optional: You may be able to get faster and more stable training by adding nn.Dropout() and nn.BatchNorm2d() layers."
   ]
  },
  {
   "cell_type": "markdown",
   "metadata": {},
   "source": []
  },
  {
   "cell_type": "code",
   "execution_count": null,
   "metadata": {},
   "outputs": [],
   "source": [
    "# Define the CNN network here. Starting point Example 12.17.\n",
    "class CNN(nn.Module):\n",
    "    def __init__(self):\n",
    "        super(CNN, self).__init__()\n",
    "\n",
    "        # allocate the network transforms that you will need in the forward method. E.g. \"self.conv1 = nn.Conv2d(1, 6, 5)\"\n",
    "        \n",
    "    def forward(self, x):\n",
    "\n",
    "        # call the network layer objects...\n",
    "\n",
    "        return x\n"
   ]
  },
  {
   "cell_type": "code",
   "execution_count": null,
   "metadata": {},
   "outputs": [],
   "source": [
    "# Choose device\n",
    "device = torch.device('cuda' if torch.cuda.is_available() else 'cpu')\n",
    "print('Using', device, '\\n')\n",
    "\n",
    "model = CNN()\n",
    "model.to(device)\n",
    "\n",
    "# MNIST dataset\n",
    "train_dataset = datasets.MNIST(root='./data', train=True,\n",
    "                               download=True, transform=ToTensor())\n",
    "train_loader = DataLoader(train_dataset, batch_size=50, shuffle=True)\n",
    "\n",
    "test_dataset = datasets.MNIST(root='./data', train=False,\n",
    "                              download=True, transform=ToTensor())\n",
    "test_loader = DataLoader(test_dataset, batch_size=50, shuffle=False)\n",
    "\n",
    "# criterion = nn.CrossEntropyLoss()\n",
    "loss_fun = nn.MSELoss()\n",
    "optimizer = optim.SGD(model.parameters(), lr=0.010)\n",
    "\n",
    "# Train the network\n",
    "for epoch in range(10):\n",
    "    correct_train = 0\n",
    "    total_train = 0\n",
    "\n",
    "    model.train()  # training mode\n",
    "    print('epoch #{}'.format(epoch+1))\n",
    "    for i, (inputs, labels) in enumerate(train_loader):\n",
    "        inputs.to(device), labels.to(device)\n",
    "\n",
    "        # set gradient's parameter to zero\n",
    "        optimizer.zero_grad()\n",
    "\n",
    "        # forward pass & back propagation\n",
    "        outputs = model(inputs)\n",
    "        loss = loss_fun(outputs, labels)\n",
    "        loss.backward()\n",
    "        optimizer.step()\n",
    "\n",
    "        # accuracy calculation\n",
    "        _, predicted = torch.max(outputs.data, 1)\n",
    "        correct_train += (predicted == labels).sum().item()\n",
    "        total_train += labels.size(0)\n",
    "\n",
    "    print('Training Accuracy: %0.3f' % ((100 * correct_train) / total_train))\n",
    "\n",
    "\n",
    "# Test #\n",
    "model.eval()\n",
    "correct_test = 0\n",
    "total_test = 0\n",
    "\n",
    "with torch.no_grad():\n",
    "    for i, (inputs, labels) in enumerate(test_loader):\n",
    "        inputs.to(device), labels.to(device)\n",
    "\n",
    "        outputs = model(inputs)\n",
    "        loss = loss_fun(outputs, labels)\n",
    "    \n",
    "        # test accuracy calculation\n",
    "        _, predicted = torch.max(outputs.data, 1)\n",
    "        correct_test += (predicted == labels).sum().item()\n",
    "        total_test += labels.size(0)\n",
    "\n",
    "print('\\nTest Accuracy: %0.3f' % ((100 * correct_test) / total_test))"
   ]
  },
  {
   "cell_type": "code",
   "execution_count": null,
   "metadata": {},
   "outputs": [],
   "source": [
    "# Visualize example results"
   ]
  }
 ],
 "metadata": {
  "kernelspec": {
   "display_name": ".venv",
   "language": "python",
   "name": "python3"
  },
  "language_info": {
   "codemirror_mode": {
    "name": "ipython",
    "version": 3
   },
   "file_extension": ".py",
   "mimetype": "text/x-python",
   "name": "python",
   "nbconvert_exporter": "python",
   "pygments_lexer": "ipython3",
   "version": "3.12.3"
  }
 },
 "nbformat": 4,
 "nbformat_minor": 0
}
